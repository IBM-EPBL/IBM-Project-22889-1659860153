{
  "cells": [
    {
      "cell_type": "code",
      "execution_count": 1,
      "metadata": {
        "id": "RYQCbDfgDR4y"
      },
      "outputs": [],
      "source": [
        "import numpy as np\n",
        "import os\n",
        "import cv2\n",
        "import shutil\n",
        "import random as rn\n",
        "from tqdm import tqdm\n",
        "import matplotlib.pyplot as plt\n",
        "import tensorflow as tf\n",
        "\n",
        "from tensorflow import keras\n",
        "from tensorflow.keras import layers\n",
        "from tensorflow.keras.models import Sequential"
      ]
    },
    {
      "cell_type": "code",
      "source": [
        "from google.colab import drive\n",
        "drive.mount('/content/drive')"
      ],
      "metadata": {
        "colab": {
          "base_uri": "https://localhost:8080/"
        },
        "id": "nynaUDIrcoFs",
        "outputId": "52fab535-c9be-4f74-f696-454c0b89b638"
      },
      "execution_count": 2,
      "outputs": [
        {
          "output_type": "stream",
          "name": "stdout",
          "text": [
            "Drive already mounted at /content/drive; to attempt to forcibly remount, call drive.mount(\"/content/drive\", force_remount=True).\n"
          ]
        }
      ]
    },
    {
      "cell_type": "code",
      "execution_count": 3,
      "metadata": {
        "id": "Lf02JF_1DR5Z"
      },
      "outputs": [],
      "source": [
        "data_dir =\"/content/drive/MyDrive/Colab Notebooks/Flowers-Dataset/flowers\""
      ]
    },
    {
      "cell_type": "code",
      "execution_count": 4,
      "metadata": {
        "colab": {
          "base_uri": "https://localhost:8080/"
        },
        "id": "-n0E07ftDR5c",
        "outputId": "e1dd345c-0976-411e-be30-61c5dcbed65a"
      },
      "outputs": [
        {
          "output_type": "stream",
          "name": "stdout",
          "text": [
            "['sunflower', 'rose', 'dandelion', 'daisy', 'tulip']\n"
          ]
        }
      ],
      "source": [
        "print(os.listdir(\"/content/drive/MyDrive/Colab Notebooks/Flowers-Dataset/flowers\"))"
      ]
    },
    {
      "cell_type": "code",
      "execution_count": 5,
      "metadata": {
        "id": "EMQ8eueTDR5l"
      },
      "outputs": [],
      "source": [
        "batch_size = 32\n",
        "img_height = 180\n",
        "img_width = 180\n",
        "num_classes = 5"
      ]
    },
    {
      "cell_type": "code",
      "execution_count": 6,
      "metadata": {
        "colab": {
          "base_uri": "https://localhost:8080/"
        },
        "id": "_DjvmNDBDR5s",
        "outputId": "dabcd783-2854-4797-806a-b55defa21957"
      },
      "outputs": [
        {
          "output_type": "stream",
          "name": "stdout",
          "text": [
            "Found 4316 files belonging to 5 classes.\n",
            "Using 3453 files for training.\n"
          ]
        }
      ],
      "source": [
        "train_ds = tf.keras.preprocessing.image_dataset_from_directory(\n",
        "  data_dir,\n",
        "  validation_split=0.2,\n",
        "  subset=\"training\",\n",
        "  seed=123,\n",
        "  image_size=(img_height, img_width),\n",
        "  batch_size=batch_size)"
      ]
    },
    {
      "cell_type": "code",
      "execution_count": 7,
      "metadata": {
        "colab": {
          "base_uri": "https://localhost:8080/"
        },
        "id": "h_lBl_JRDR5w",
        "outputId": "92e54caf-a1fd-4509-9e2e-d14245c80f4e"
      },
      "outputs": [
        {
          "output_type": "stream",
          "name": "stdout",
          "text": [
            "Found 4316 files belonging to 5 classes.\n",
            "Using 863 files for validation.\n"
          ]
        }
      ],
      "source": [
        "val_ds = tf.keras.preprocessing.image_dataset_from_directory(\n",
        "  data_dir,\n",
        "  validation_split=0.2,\n",
        "  subset=\"validation\",\n",
        "  seed=123,\n",
        "  image_size=(img_height, img_width),\n",
        "  batch_size=batch_size)"
      ]
    },
    {
      "cell_type": "code",
      "execution_count": 8,
      "metadata": {
        "colab": {
          "base_uri": "https://localhost:8080/"
        },
        "id": "UDkfa9cVDR5x",
        "outputId": "1e3794bd-907a-4485-baab-d61556638b90"
      },
      "outputs": [
        {
          "output_type": "execute_result",
          "data": {
            "text/plain": [
              "['daisy', 'dandelion', 'rose', 'sunflower', 'tulip']"
            ]
          },
          "metadata": {},
          "execution_count": 8
        }
      ],
      "source": [
        "class_names = train_ds.class_names\n",
        "class_names"
      ]
    },
    {
      "cell_type": "code",
      "execution_count": 9,
      "metadata": {
        "id": "_XuZJGM0DR5x"
      },
      "outputs": [],
      "source": [
        "AUTOTUNE = tf.data.AUTOTUNE\n",
        "\n",
        "train_ds = train_ds.cache().shuffle(1000).prefetch(buffer_size=AUTOTUNE)\n",
        "val_ds = val_ds.cache().prefetch(buffer_size=AUTOTUNE)"
      ]
    },
    {
      "cell_type": "code",
      "execution_count": 10,
      "metadata": {
        "id": "mEdaFXd7DR5y"
      },
      "outputs": [],
      "source": [
        "normalization_layer = layers.experimental.preprocessing.Rescaling(1./255)"
      ]
    },
    {
      "cell_type": "code",
      "execution_count": 11,
      "metadata": {
        "colab": {
          "base_uri": "https://localhost:8080/"
        },
        "id": "Nl1Igcp8DR5z",
        "outputId": "da9e99ad-30f9-41cf-f13f-e536af0be4e0"
      },
      "outputs": [
        {
          "output_type": "stream",
          "name": "stdout",
          "text": [
            "0.00016884142 1.0\n"
          ]
        }
      ],
      "source": [
        "normalized_ds = train_ds.map(lambda x, y: (normalization_layer(x), y))\n",
        "image_batch, labels_batch = next(iter(normalized_ds))\n",
        "first_image = image_batch[0]\n",
        "# Notice the pixels values are now in `[0,1]`.\n",
        "print(np.min(first_image), np.max(first_image))"
      ]
    },
    {
      "cell_type": "markdown",
      "source": [
        "* ### ***Image Augmentation***\n",
        "\n",
        "\n",
        "\n"
      ],
      "metadata": {
        "id": "aa0jby6iGi0h"
      }
    },
    {
      "cell_type": "code",
      "execution_count": 12,
      "metadata": {
        "id": "ts97UAa6DR52"
      },
      "outputs": [],
      "source": [
        "data_augmentation = keras.Sequential(\n",
        "  [\n",
        "    layers.experimental.preprocessing.RandomFlip(\"horizontal\", \n",
        "                                                 input_shape=(img_height, \n",
        "                                                              img_width,\n",
        "                                                              3)),\n",
        "    layers.experimental.preprocessing.RandomRotation(0.1),\n",
        "    layers.experimental.preprocessing.RandomZoom(0.1),\n",
        "  ]\n",
        ")"
      ]
    },
    {
      "cell_type": "markdown",
      "source": [
        "*   ### ***Model Creation / Adding Layers***"
      ],
      "metadata": {
        "id": "h-gTfOU3G6aY"
      }
    },
    {
      "cell_type": "code",
      "execution_count": 13,
      "metadata": {
        "id": "DuDiQkSFDR53"
      },
      "outputs": [],
      "source": [
        "model = Sequential([\n",
        "  data_augmentation,\n",
        "  layers.experimental.preprocessing.Rescaling(1./255),\n",
        "  layers.Conv2D(16, 3, padding='same', activation='relu'),\n",
        "  layers.MaxPooling2D(),\n",
        "  layers.Conv2D(32, 3, padding='same', activation='relu'),\n",
        "  layers.MaxPooling2D(),\n",
        "  layers.Conv2D(64, 3, padding='same', activation='relu'),\n",
        "  layers.MaxPooling2D(),\n",
        "  layers.Conv2D(128, 3, padding='same', activation='relu'),\n",
        "  layers.MaxPooling2D(),\n",
        "  layers.Conv2D(256, 3, padding='same', activation='relu'),\n",
        "  layers.MaxPooling2D(),\n",
        "  layers.Dropout(0.3),\n",
        "  layers.Flatten(),\n",
        "  layers.Dense(512, activation='relu'),\n",
        "  layers.Dense(num_classes)\n",
        "])"
      ]
    },
    {
      "cell_type": "markdown",
      "source": [
        "* ### ***Compling the Model***"
      ],
      "metadata": {
        "id": "Dy5JnxTgHQ5R"
      }
    },
    {
      "cell_type": "code",
      "execution_count": 14,
      "metadata": {
        "id": "XHx6Hk2oDR55"
      },
      "outputs": [],
      "source": [
        "model.compile(optimizer='adam',\n",
        "              loss=tf.keras.losses.SparseCategoricalCrossentropy(from_logits=True),\n",
        "              metrics=['accuracy'])"
      ]
    },
    {
      "cell_type": "markdown",
      "source": [
        "* ### ***Fitting the Model***"
      ],
      "metadata": {
        "id": "XmrQ0USNHgcn"
      }
    },
    {
      "cell_type": "code",
      "execution_count": 15,
      "metadata": {
        "colab": {
          "base_uri": "https://localhost:8080/"
        },
        "id": "GJ6dK_2SDR55",
        "outputId": "60936d2a-0d1b-4bf9-9e1e-9170e6bc6592"
      },
      "outputs": [
        {
          "output_type": "stream",
          "name": "stdout",
          "text": [
            "Epoch 1/25\n",
            "108/108 [==============================] - 215s 2s/step - loss: 1.3451 - accuracy: 0.3982 - val_loss: 1.1058 - val_accuracy: 0.5620\n",
            "Epoch 2/25\n",
            "108/108 [==============================] - 3s 29ms/step - loss: 1.0660 - accuracy: 0.5836 - val_loss: 0.9432 - val_accuracy: 0.6269\n",
            "Epoch 3/25\n",
            "108/108 [==============================] - 3s 28ms/step - loss: 0.9508 - accuracy: 0.6313 - val_loss: 0.9002 - val_accuracy: 0.6431\n",
            "Epoch 4/25\n",
            "108/108 [==============================] - 3s 28ms/step - loss: 0.8912 - accuracy: 0.6574 - val_loss: 0.8449 - val_accuracy: 0.6651\n",
            "Epoch 5/25\n",
            "108/108 [==============================] - 3s 29ms/step - loss: 0.8496 - accuracy: 0.6748 - val_loss: 0.8424 - val_accuracy: 0.6674\n",
            "Epoch 6/25\n",
            "108/108 [==============================] - 3s 29ms/step - loss: 0.8255 - accuracy: 0.6893 - val_loss: 0.7902 - val_accuracy: 0.6848\n",
            "Epoch 7/25\n",
            "108/108 [==============================] - 3s 29ms/step - loss: 0.7970 - accuracy: 0.6962 - val_loss: 0.8048 - val_accuracy: 0.7092\n",
            "Epoch 8/25\n",
            "108/108 [==============================] - 3s 29ms/step - loss: 0.7432 - accuracy: 0.7226 - val_loss: 0.7876 - val_accuracy: 0.7126\n",
            "Epoch 9/25\n",
            "108/108 [==============================] - 3s 29ms/step - loss: 0.7424 - accuracy: 0.7292 - val_loss: 0.7406 - val_accuracy: 0.7277\n",
            "Epoch 10/25\n",
            "108/108 [==============================] - 3s 29ms/step - loss: 0.6865 - accuracy: 0.7408 - val_loss: 0.7545 - val_accuracy: 0.7126\n",
            "Epoch 11/25\n",
            "108/108 [==============================] - 3s 29ms/step - loss: 0.6696 - accuracy: 0.7553 - val_loss: 0.7565 - val_accuracy: 0.7149\n",
            "Epoch 12/25\n",
            "108/108 [==============================] - 3s 29ms/step - loss: 0.6153 - accuracy: 0.7674 - val_loss: 0.7026 - val_accuracy: 0.7312\n",
            "Epoch 13/25\n",
            "108/108 [==============================] - 3s 29ms/step - loss: 0.6240 - accuracy: 0.7576 - val_loss: 0.6976 - val_accuracy: 0.7416\n",
            "Epoch 14/25\n",
            "108/108 [==============================] - 3s 29ms/step - loss: 0.5958 - accuracy: 0.7756 - val_loss: 0.7320 - val_accuracy: 0.7358\n",
            "Epoch 15/25\n",
            "108/108 [==============================] - 3s 29ms/step - loss: 0.5674 - accuracy: 0.7799 - val_loss: 0.6191 - val_accuracy: 0.7706\n",
            "Epoch 16/25\n",
            "108/108 [==============================] - 3s 30ms/step - loss: 0.5343 - accuracy: 0.7915 - val_loss: 0.6559 - val_accuracy: 0.7601\n",
            "Epoch 17/25\n",
            "108/108 [==============================] - 3s 29ms/step - loss: 0.5124 - accuracy: 0.7993 - val_loss: 0.9222 - val_accuracy: 0.6999\n",
            "Epoch 18/25\n",
            "108/108 [==============================] - 3s 29ms/step - loss: 0.5028 - accuracy: 0.8118 - val_loss: 0.6889 - val_accuracy: 0.7486\n",
            "Epoch 19/25\n",
            "108/108 [==============================] - 3s 29ms/step - loss: 0.4775 - accuracy: 0.8167 - val_loss: 0.6358 - val_accuracy: 0.7659\n",
            "Epoch 20/25\n",
            "108/108 [==============================] - 3s 30ms/step - loss: 0.4820 - accuracy: 0.8161 - val_loss: 0.6061 - val_accuracy: 0.7845\n",
            "Epoch 21/25\n",
            "108/108 [==============================] - 3s 29ms/step - loss: 0.4468 - accuracy: 0.8286 - val_loss: 0.6679 - val_accuracy: 0.7694\n",
            "Epoch 22/25\n",
            "108/108 [==============================] - 3s 29ms/step - loss: 0.4504 - accuracy: 0.8326 - val_loss: 1.0930 - val_accuracy: 0.7138\n",
            "Epoch 23/25\n",
            "108/108 [==============================] - 3s 29ms/step - loss: 0.4583 - accuracy: 0.8274 - val_loss: 0.6834 - val_accuracy: 0.7671\n",
            "Epoch 24/25\n",
            "108/108 [==============================] - 3s 29ms/step - loss: 0.4210 - accuracy: 0.8390 - val_loss: 0.6711 - val_accuracy: 0.7706\n",
            "Epoch 25/25\n",
            "108/108 [==============================] - 3s 29ms/step - loss: 0.3811 - accuracy: 0.8488 - val_loss: 0.7375 - val_accuracy: 0.7590\n"
          ]
        },
        {
          "output_type": "execute_result",
          "data": {
            "text/plain": [
              "<keras.callbacks.History at 0x7f8f56d26490>"
            ]
          },
          "metadata": {},
          "execution_count": 15
        }
      ],
      "source": [
        "epochs=25\n",
        "model.fit(\n",
        "  train_ds,\n",
        "  validation_data=val_ds,\n",
        "  epochs=epochs\n",
        ")"
      ]
    },
    {
      "cell_type": "markdown",
      "source": [
        "* ### ***Testing on unseen image Data***"
      ],
      "metadata": {
        "id": "HmUk3C9xSpSN"
      }
    },
    {
      "cell_type": "code",
      "execution_count": 24,
      "metadata": {
        "id": "ykAjDYXdDR58",
        "colab": {
          "base_uri": "https://localhost:8080/"
        },
        "outputId": "83be202d-93ff-44a5-8a78-760247685236"
      },
      "outputs": [
        {
          "output_type": "stream",
          "name": "stdout",
          "text": [
            "[[ 9.240989  -2.362346  -1.7370366  0.7477588 -3.8509147]]\n",
            "0\n",
            "['daisy', 'dandelion', 'rose', 'sunflower', 'tulip']\n"
          ]
        }
      ],
      "source": [
        "from matplotlib import image as im\n",
        "from matplotlib import pyplot\n",
        "from keras.preprocessing import image\n",
        "from PIL import Image\n",
        "data = im.imread('/content/drive/MyDrive/Colab Notebooks/th.jpg')\n",
        "img=image.load_img('/content/drive/MyDrive/Colab Notebooks/th.jpg', target_size=(180, 180))\n",
        "\n",
        "test_img=np.expand_dims(img , axis=0)\n",
        "  \n",
        "result = model.predict(test_img)\n",
        "pred = np.argmax(result) \n",
        "print(result)\n",
        "print(pred)\n",
        "print(class_names)\n",
        "\n"
      ]
    },
    {
      "cell_type": "code",
      "source": [
        "image = tf.keras.preprocessing.image.load_img('/content/drive/MyDrive/Colab Notebooks/th(1).jpg', target_size=(180,180))\n",
        "input_arr = tf.keras.preprocessing.image.img_to_array(image)\n",
        "input_arr = np.array([input_arr])  \n",
        "result = model.predict(input_arr)\n",
        "pred = np.argmax(result) \n",
        "print(class_names)\n",
        "print(pred)\n",
        "print(class_names[pred])"
      ],
      "metadata": {
        "colab": {
          "base_uri": "https://localhost:8080/"
        },
        "id": "yyJ8RCIOQ5ot",
        "outputId": "2dda369e-9983-4a2f-f8d0-e2043d50f31d"
      },
      "execution_count": 27,
      "outputs": [
        {
          "output_type": "stream",
          "name": "stdout",
          "text": [
            "['daisy', 'dandelion', 'rose', 'sunflower', 'tulip']\n",
            "1\n",
            "dandelion\n"
          ]
        }
      ]
    },
    {
      "cell_type": "markdown",
      "source": [
        "* ### ***Saving Model***"
      ],
      "metadata": {
        "id": "I3rk2SvdS6M1"
      }
    },
    {
      "cell_type": "code",
      "source": [
        "model.save(\"/content/drive/MyDrive/Colab Notebooks/flower_model.h5\")"
      ],
      "metadata": {
        "id": "_hsOIVlDSWpA"
      },
      "execution_count": 30,
      "outputs": []
    },
    {
      "cell_type": "code",
      "source": [
        "from tensorflow.keras.models import load_model\n",
        "\n",
        "savedModel=load_model(\"/content/drive/MyDrive/Colab Notebooks/flower_model.h5\")\n",
        "savedModel.summary()"
      ],
      "metadata": {
        "colab": {
          "base_uri": "https://localhost:8080/"
        },
        "id": "QiJmaVIRUQYI",
        "outputId": "56c5e435-d32b-4ee8-a0a2-c61f5f35a86b"
      },
      "execution_count": 32,
      "outputs": [
        {
          "output_type": "stream",
          "name": "stdout",
          "text": [
            "Model: \"sequential_1\"\n",
            "_________________________________________________________________\n",
            " Layer (type)                Output Shape              Param #   \n",
            "=================================================================\n",
            " sequential (Sequential)     (None, 180, 180, 3)       0         \n",
            "                                                                 \n",
            " rescaling_1 (Rescaling)     (None, 180, 180, 3)       0         \n",
            "                                                                 \n",
            " conv2d (Conv2D)             (None, 180, 180, 16)      448       \n",
            "                                                                 \n",
            " max_pooling2d (MaxPooling2D  (None, 90, 90, 16)       0         \n",
            " )                                                               \n",
            "                                                                 \n",
            " conv2d_1 (Conv2D)           (None, 90, 90, 32)        4640      \n",
            "                                                                 \n",
            " max_pooling2d_1 (MaxPooling  (None, 45, 45, 32)       0         \n",
            " 2D)                                                             \n",
            "                                                                 \n",
            " conv2d_2 (Conv2D)           (None, 45, 45, 64)        18496     \n",
            "                                                                 \n",
            " max_pooling2d_2 (MaxPooling  (None, 22, 22, 64)       0         \n",
            " 2D)                                                             \n",
            "                                                                 \n",
            " conv2d_3 (Conv2D)           (None, 22, 22, 128)       73856     \n",
            "                                                                 \n",
            " max_pooling2d_3 (MaxPooling  (None, 11, 11, 128)      0         \n",
            " 2D)                                                             \n",
            "                                                                 \n",
            " conv2d_4 (Conv2D)           (None, 11, 11, 256)       295168    \n",
            "                                                                 \n",
            " max_pooling2d_4 (MaxPooling  (None, 5, 5, 256)        0         \n",
            " 2D)                                                             \n",
            "                                                                 \n",
            " dropout (Dropout)           (None, 5, 5, 256)         0         \n",
            "                                                                 \n",
            " flatten (Flatten)           (None, 6400)              0         \n",
            "                                                                 \n",
            " dense (Dense)               (None, 512)               3277312   \n",
            "                                                                 \n",
            " dense_1 (Dense)             (None, 5)                 2565      \n",
            "                                                                 \n",
            "=================================================================\n",
            "Total params: 3,672,485\n",
            "Trainable params: 3,672,485\n",
            "Non-trainable params: 0\n",
            "_________________________________________________________________\n"
          ]
        }
      ]
    },
    {
      "cell_type": "code",
      "source": [],
      "metadata": {
        "id": "s2Yxq_WzUfbn"
      },
      "execution_count": 32,
      "outputs": []
    }
  ],
  "metadata": {
    "kernelspec": {
      "display_name": "Python 3.8.5 ('base')",
      "language": "python",
      "name": "python3"
    },
    "language_info": {
      "codemirror_mode": {
        "name": "ipython",
        "version": 3
      },
      "file_extension": ".py",
      "mimetype": "text/x-python",
      "name": "python",
      "nbconvert_exporter": "python",
      "pygments_lexer": "ipython3",
      "version": "3.8.5"
    },
    "orig_nbformat": 4,
    "vscode": {
      "interpreter": {
        "hash": "4c7c73bd2f96f7ecfce4c2ebe289d2ebf7bb8be73ece72a715221e4a2052d88f"
      }
    },
    "colab": {
      "provenance": [],
      "collapsed_sections": []
    },
    "accelerator": "GPU"
  },
  "nbformat": 4,
  "nbformat_minor": 0
}