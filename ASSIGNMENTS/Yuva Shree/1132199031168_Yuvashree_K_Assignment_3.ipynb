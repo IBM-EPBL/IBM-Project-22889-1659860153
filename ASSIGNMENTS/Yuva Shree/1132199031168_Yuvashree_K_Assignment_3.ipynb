{
  "cells": [
    {
      "cell_type": "code",
      "execution_count": 9,
      "metadata": {
        "id": "RYQCbDfgDR4y"
      },
      "outputs": [],
      "source": [
        "import numpy as np\n",
        "import os\n",
        "import cv2\n",
        "import shutil\n",
        "import random as rn\n",
        "from tqdm import tqdm\n",
        "import matplotlib.pyplot as plt\n",
        "import tensorflow as tf\n",
        "\n",
        "from tensorflow import keras\n",
        "from tensorflow.keras import layers\n",
        "from tensorflow.keras.models import Sequential"
      ]
    },
    {
      "cell_type": "code",
      "source": [
        "from google.colab import drive\n",
        "drive.mount('/content/drive')"
      ],
      "metadata": {
        "colab": {
          "base_uri": "https://localhost:8080/"
        },
        "id": "nynaUDIrcoFs",
        "outputId": "d71d6780-366b-4a9e-b41d-e94e2ae3068d"
      },
      "execution_count": 10,
      "outputs": [
        {
          "output_type": "stream",
          "name": "stdout",
          "text": [
            "Drive already mounted at /content/drive; to attempt to forcibly remount, call drive.mount(\"/content/drive\", force_remount=True).\n"
          ]
        }
      ]
    },
    {
      "cell_type": "code",
      "execution_count": 11,
      "metadata": {
        "id": "Lf02JF_1DR5Z"
      },
      "outputs": [],
      "source": [
        "data_dir =\"/content/drive/MyDrive/IBM/flowers\""
      ]
    },
    {
      "cell_type": "code",
      "execution_count": 12,
      "metadata": {
        "colab": {
          "base_uri": "https://localhost:8080/"
        },
        "id": "-n0E07ftDR5c",
        "outputId": "5b95d2ef-af22-4eb9-b9c0-983f9f4af10c"
      },
      "outputs": [
        {
          "output_type": "stream",
          "name": "stdout",
          "text": [
            "['dandelion', 'tulip', 'daisy', 'sunflower', 'rose']\n"
          ]
        }
      ],
      "source": [
        "print(os.listdir(\"/content/drive/MyDrive/IBM/flowers\"))"
      ]
    },
    {
      "cell_type": "code",
      "execution_count": 13,
      "metadata": {
        "id": "EMQ8eueTDR5l"
      },
      "outputs": [],
      "source": [
        "batch_size = 32\n",
        "img_height = 180\n",
        "img_width = 180\n",
        "num_classes = 5"
      ]
    },
    {
      "cell_type": "code",
      "execution_count": 14,
      "metadata": {
        "colab": {
          "base_uri": "https://localhost:8080/"
        },
        "id": "_DjvmNDBDR5s",
        "outputId": "085fa134-0c86-47e4-8e15-193cdf4d8051"
      },
      "outputs": [
        {
          "output_type": "stream",
          "name": "stdout",
          "text": [
            "Found 4317 files belonging to 5 classes.\n",
            "Using 3454 files for training.\n"
          ]
        }
      ],
      "source": [
        "train_ds = tf.keras.preprocessing.image_dataset_from_directory(\n",
        "  data_dir,\n",
        "  validation_split=0.2,\n",
        "  subset=\"training\",\n",
        "  seed=123,\n",
        "  image_size=(img_height, img_width),\n",
        "  batch_size=batch_size)"
      ]
    },
    {
      "cell_type": "code",
      "execution_count": 15,
      "metadata": {
        "colab": {
          "base_uri": "https://localhost:8080/"
        },
        "id": "h_lBl_JRDR5w",
        "outputId": "7aabed00-a916-42b1-950f-9addc7945592"
      },
      "outputs": [
        {
          "output_type": "stream",
          "name": "stdout",
          "text": [
            "Found 4317 files belonging to 5 classes.\n",
            "Using 863 files for validation.\n"
          ]
        }
      ],
      "source": [
        "val_ds = tf.keras.preprocessing.image_dataset_from_directory(\n",
        "  data_dir,\n",
        "  validation_split=0.2,\n",
        "  subset=\"validation\",\n",
        "  seed=123,\n",
        "  image_size=(img_height, img_width),\n",
        "  batch_size=batch_size)"
      ]
    },
    {
      "cell_type": "code",
      "execution_count": 16,
      "metadata": {
        "colab": {
          "base_uri": "https://localhost:8080/"
        },
        "id": "UDkfa9cVDR5x",
        "outputId": "25a7e722-d6f7-4c15-bd41-3171f0e47b4a"
      },
      "outputs": [
        {
          "output_type": "execute_result",
          "data": {
            "text/plain": [
              "['daisy', 'dandelion', 'rose', 'sunflower', 'tulip']"
            ]
          },
          "metadata": {},
          "execution_count": 16
        }
      ],
      "source": [
        "class_names = train_ds.class_names\n",
        "class_names"
      ]
    },
    {
      "cell_type": "code",
      "execution_count": 17,
      "metadata": {
        "id": "_XuZJGM0DR5x"
      },
      "outputs": [],
      "source": [
        "AUTOTUNE = tf.data.AUTOTUNE\n",
        "\n",
        "train_ds = train_ds.cache().shuffle(1000).prefetch(buffer_size=AUTOTUNE)\n",
        "val_ds = val_ds.cache().prefetch(buffer_size=AUTOTUNE)"
      ]
    },
    {
      "cell_type": "code",
      "execution_count": 18,
      "metadata": {
        "id": "mEdaFXd7DR5y"
      },
      "outputs": [],
      "source": [
        "normalization_layer = layers.experimental.preprocessing.Rescaling(1./255)"
      ]
    },
    {
      "cell_type": "code",
      "execution_count": 19,
      "metadata": {
        "colab": {
          "base_uri": "https://localhost:8080/"
        },
        "id": "Nl1Igcp8DR5z",
        "outputId": "8a42f1f2-3529-47ce-cf8d-562bcf4251d0"
      },
      "outputs": [
        {
          "output_type": "stream",
          "name": "stdout",
          "text": [
            "0.0 1.0\n"
          ]
        }
      ],
      "source": [
        "normalized_ds = train_ds.map(lambda x, y: (normalization_layer(x), y))\n",
        "image_batch, labels_batch = next(iter(normalized_ds))\n",
        "first_image = image_batch[0]\n",
        "# Notice the pixels values are now in `[0,1]`.\n",
        "print(np.min(first_image), np.max(first_image))"
      ]
    },
    {
      "cell_type": "markdown",
      "source": [
        "\n",
        "* ### ***Image Augmentation***\n",
        "\n",
        "\n",
        "\n"
      ],
      "metadata": {
        "id": "aa0jby6iGi0h"
      }
    },
    {
      "cell_type": "code",
      "execution_count": 20,
      "metadata": {
        "id": "ts97UAa6DR52"
      },
      "outputs": [],
      "source": [
        "data_augmentation = keras.Sequential(\n",
        "  [\n",
        "    layers.experimental.preprocessing.RandomFlip(\"horizontal\", \n",
        "                                                 input_shape=(img_height, \n",
        "                                                              img_width,\n",
        "                                                              3)),\n",
        "    layers.experimental.preprocessing.RandomRotation(0.1),\n",
        "    layers.experimental.preprocessing.RandomZoom(0.1),\n",
        "  ]\n",
        ")"
      ]
    },
    {
      "cell_type": "markdown",
      "source": [
        "*   ### ***Model Creation / Adding Layers***"
      ],
      "metadata": {
        "id": "h-gTfOU3G6aY"
      }
    },
    {
      "cell_type": "code",
      "execution_count": 21,
      "metadata": {
        "id": "DuDiQkSFDR53"
      },
      "outputs": [],
      "source": [
        "model = Sequential([\n",
        "  data_augmentation,\n",
        "  layers.experimental.preprocessing.Rescaling(1./255),\n",
        "  layers.Conv2D(16, 3, padding='same', activation='relu'),\n",
        "  layers.MaxPooling2D(),\n",
        "  layers.Conv2D(32, 3, padding='same', activation='relu'),\n",
        "  layers.MaxPooling2D(),\n",
        "  layers.Conv2D(64, 3, padding='same', activation='relu'),\n",
        "  layers.MaxPooling2D(),\n",
        "  layers.Conv2D(128, 3, padding='same', activation='relu'),\n",
        "  layers.MaxPooling2D(),\n",
        "  layers.Conv2D(256, 3, padding='same', activation='relu'),\n",
        "  layers.MaxPooling2D(),\n",
        "  layers.Dropout(0.3),\n",
        "  layers.Flatten(),\n",
        "  layers.Dense(512, activation='relu'),\n",
        "  layers.Dense(num_classes)\n",
        "])"
      ]
    },
    {
      "cell_type": "markdown",
      "source": [
        "* ### ***Compling the Model***"
      ],
      "metadata": {
        "id": "Dy5JnxTgHQ5R"
      }
    },
    {
      "cell_type": "code",
      "execution_count": 22,
      "metadata": {
        "id": "XHx6Hk2oDR55"
      },
      "outputs": [],
      "source": [
        "model.compile(optimizer='adam',\n",
        "              loss=tf.keras.losses.SparseCategoricalCrossentropy(from_logits=True),\n",
        "              metrics=['accuracy'])"
      ]
    },
    {
      "cell_type": "markdown",
      "source": [
        "* ### ***Fitting the Model***"
      ],
      "metadata": {
        "id": "XmrQ0USNHgcn"
      }
    },
    {
      "cell_type": "code",
      "execution_count": 23,
      "metadata": {
        "colab": {
          "base_uri": "https://localhost:8080/"
        },
        "id": "GJ6dK_2SDR55",
        "outputId": "a84758a3-05a6-445d-b7cd-7cfd240fe10b"
      },
      "outputs": [
        {
          "output_type": "stream",
          "name": "stdout",
          "text": [
            "Epoch 1/25\n",
            "108/108 [==============================] - 94s 781ms/step - loss: 1.3248 - accuracy: 0.4134 - val_loss: 1.1138 - val_accuracy: 0.5608\n",
            "Epoch 2/25\n",
            "108/108 [==============================] - 3s 29ms/step - loss: 1.0422 - accuracy: 0.5692 - val_loss: 1.0106 - val_accuracy: 0.5968\n",
            "Epoch 3/25\n",
            "108/108 [==============================] - 3s 29ms/step - loss: 0.9695 - accuracy: 0.6141 - val_loss: 0.9223 - val_accuracy: 0.6362\n",
            "Epoch 4/25\n",
            "108/108 [==============================] - 3s 29ms/step - loss: 0.8898 - accuracy: 0.6477 - val_loss: 0.8969 - val_accuracy: 0.6501\n",
            "Epoch 5/25\n",
            "108/108 [==============================] - 3s 30ms/step - loss: 0.8404 - accuracy: 0.6760 - val_loss: 0.8947 - val_accuracy: 0.6454\n",
            "Epoch 6/25\n",
            "108/108 [==============================] - 3s 29ms/step - loss: 0.8274 - accuracy: 0.6749 - val_loss: 0.8415 - val_accuracy: 0.6906\n",
            "Epoch 7/25\n",
            "108/108 [==============================] - 3s 29ms/step - loss: 0.7662 - accuracy: 0.7061 - val_loss: 0.7691 - val_accuracy: 0.7126\n",
            "Epoch 8/25\n",
            "108/108 [==============================] - 3s 29ms/step - loss: 0.7390 - accuracy: 0.7122 - val_loss: 0.7766 - val_accuracy: 0.7034\n",
            "Epoch 9/25\n",
            "108/108 [==============================] - 3s 29ms/step - loss: 0.6973 - accuracy: 0.7290 - val_loss: 0.7807 - val_accuracy: 0.7231\n",
            "Epoch 10/25\n",
            "108/108 [==============================] - 3s 30ms/step - loss: 0.6699 - accuracy: 0.7458 - val_loss: 0.8068 - val_accuracy: 0.6767\n",
            "Epoch 11/25\n",
            "108/108 [==============================] - 3s 30ms/step - loss: 0.6728 - accuracy: 0.7446 - val_loss: 0.7714 - val_accuracy: 0.7196\n",
            "Epoch 12/25\n",
            "108/108 [==============================] - 3s 30ms/step - loss: 0.6228 - accuracy: 0.7594 - val_loss: 0.6910 - val_accuracy: 0.7462\n",
            "Epoch 13/25\n",
            "108/108 [==============================] - 3s 30ms/step - loss: 0.6061 - accuracy: 0.7684 - val_loss: 0.7060 - val_accuracy: 0.7451\n",
            "Epoch 14/25\n",
            "108/108 [==============================] - 3s 30ms/step - loss: 0.5621 - accuracy: 0.7869 - val_loss: 0.7197 - val_accuracy: 0.7416\n",
            "Epoch 15/25\n",
            "108/108 [==============================] - 3s 30ms/step - loss: 0.5696 - accuracy: 0.7811 - val_loss: 0.6816 - val_accuracy: 0.7543\n",
            "Epoch 16/25\n",
            "108/108 [==============================] - 3s 29ms/step - loss: 0.5056 - accuracy: 0.8052 - val_loss: 0.7709 - val_accuracy: 0.7346\n",
            "Epoch 17/25\n",
            "108/108 [==============================] - 3s 29ms/step - loss: 0.5184 - accuracy: 0.8034 - val_loss: 0.7123 - val_accuracy: 0.7613\n",
            "Epoch 18/25\n",
            "108/108 [==============================] - 3s 30ms/step - loss: 0.4942 - accuracy: 0.8069 - val_loss: 0.7349 - val_accuracy: 0.7428\n",
            "Epoch 19/25\n",
            "108/108 [==============================] - 3s 30ms/step - loss: 0.4676 - accuracy: 0.8191 - val_loss: 0.7080 - val_accuracy: 0.7346\n",
            "Epoch 20/25\n",
            "108/108 [==============================] - 3s 30ms/step - loss: 0.4688 - accuracy: 0.8222 - val_loss: 0.6753 - val_accuracy: 0.7879\n",
            "Epoch 21/25\n",
            "108/108 [==============================] - 3s 30ms/step - loss: 0.4165 - accuracy: 0.8413 - val_loss: 0.6712 - val_accuracy: 0.7706\n",
            "Epoch 22/25\n",
            "108/108 [==============================] - 3s 30ms/step - loss: 0.3929 - accuracy: 0.8445 - val_loss: 0.7246 - val_accuracy: 0.7439\n",
            "Epoch 23/25\n",
            "108/108 [==============================] - 3s 30ms/step - loss: 0.3966 - accuracy: 0.8460 - val_loss: 0.7050 - val_accuracy: 0.7764\n",
            "Epoch 24/25\n",
            "108/108 [==============================] - 3s 30ms/step - loss: 0.4046 - accuracy: 0.8442 - val_loss: 0.6686 - val_accuracy: 0.7590\n",
            "Epoch 25/25\n",
            "108/108 [==============================] - 3s 30ms/step - loss: 0.3739 - accuracy: 0.8555 - val_loss: 0.6579 - val_accuracy: 0.7891\n"
          ]
        },
        {
          "output_type": "execute_result",
          "data": {
            "text/plain": [
              "<keras.callbacks.History at 0x7f8443589f10>"
            ]
          },
          "metadata": {},
          "execution_count": 23
        }
      ],
      "source": [
        "epochs=25\n",
        "model.fit(\n",
        "  train_ds,\n",
        "  validation_data=val_ds,\n",
        "  epochs=epochs\n",
        ")"
      ]
    },
    {
      "cell_type": "markdown",
      "source": [
        "* ### ***Testing on unseen image Data***"
      ],
      "metadata": {
        "id": "HmUk3C9xSpSN"
      }
    },
    {
      "cell_type": "code",
      "execution_count": 25,
      "metadata": {
        "id": "ykAjDYXdDR58",
        "colab": {
          "base_uri": "https://localhost:8080/"
        },
        "outputId": "7450b69a-f242-4c69-9e94-6e111b23e422"
      },
      "outputs": [
        {
          "output_type": "stream",
          "name": "stdout",
          "text": [
            "[[ 6.6757097  2.4115148 -3.093146  -1.7972815 -4.8765335]]\n",
            "0\n",
            "['daisy', 'dandelion', 'rose', 'sunflower', 'tulip']\n"
          ]
        }
      ],
      "source": [
        "from matplotlib import image as im\n",
        "from matplotlib import pyplot\n",
        "from keras.preprocessing import image\n",
        "from PIL import Image\n",
        "data = im.imread('/content/drive/MyDrive/IBM/flowers/daisy/100080576_f52e8ee070_n.jpg')\n",
        "img=image.load_img('/content/drive/MyDrive/IBM/flowers/daisy/100080576_f52e8ee070_n.jpg', target_size=(180, 180))\n",
        "\n",
        "test_img=np.expand_dims(img , axis=0)\n",
        "  \n",
        "result = model.predict(test_img)\n",
        "pred = np.argmax(result) \n",
        "print(result)\n",
        "print(pred)\n",
        "print(class_names)\n",
        "\n"
      ]
    },
    {
      "cell_type": "code",
      "source": [
        "image = tf.keras.preprocessing.image.load_img('/content/drive/MyDrive/IBM/flowers/daisy/100080576_f52e8ee070_n.jpg', target_size=(180,180))\n",
        "input_arr = tf.keras.preprocessing.image.img_to_array(image)\n",
        "input_arr = np.array([input_arr])  \n",
        "result = model.predict(input_arr)\n",
        "pred = np.argmax(result) \n",
        "print(class_names)\n",
        "print(pred)\n",
        "print(class_names[pred])"
      ],
      "metadata": {
        "colab": {
          "base_uri": "https://localhost:8080/"
        },
        "id": "yyJ8RCIOQ5ot",
        "outputId": "d1e3c4eb-7aa9-4da9-cdf3-838d29cae473"
      },
      "execution_count": 26,
      "outputs": [
        {
          "output_type": "stream",
          "name": "stdout",
          "text": [
            "['daisy', 'dandelion', 'rose', 'sunflower', 'tulip']\n",
            "0\n",
            "daisy\n"
          ]
        }
      ]
    },
    {
      "cell_type": "markdown",
      "source": [
        "* ### ***Saving Model***"
      ],
      "metadata": {
        "id": "I3rk2SvdS6M1"
      }
    },
    {
      "cell_type": "code",
      "source": [
        "model.save(\"/content/drive/MyDrive/IBM/flower_model.h5\")"
      ],
      "metadata": {
        "id": "_hsOIVlDSWpA"
      },
      "execution_count": 27,
      "outputs": []
    },
    {
      "cell_type": "code",
      "source": [
        "from tensorflow.keras.models import load_model\n",
        "\n",
        "savedModel=load_model(\"/content/drive/MyDrive/IBM/flower_model.h5\")\n",
        "savedModel.summary()"
      ],
      "metadata": {
        "colab": {
          "base_uri": "https://localhost:8080/"
        },
        "id": "QiJmaVIRUQYI",
        "outputId": "079ab47d-ece1-4ed1-bbe9-5244800f1283"
      },
      "execution_count": 28,
      "outputs": [
        {
          "output_type": "stream",
          "name": "stdout",
          "text": [
            "Model: \"sequential_1\"\n",
            "_________________________________________________________________\n",
            " Layer (type)                Output Shape              Param #   \n",
            "=================================================================\n",
            " sequential (Sequential)     (None, 180, 180, 3)       0         \n",
            "                                                                 \n",
            " rescaling_1 (Rescaling)     (None, 180, 180, 3)       0         \n",
            "                                                                 \n",
            " conv2d (Conv2D)             (None, 180, 180, 16)      448       \n",
            "                                                                 \n",
            " max_pooling2d (MaxPooling2D  (None, 90, 90, 16)       0         \n",
            " )                                                               \n",
            "                                                                 \n",
            " conv2d_1 (Conv2D)           (None, 90, 90, 32)        4640      \n",
            "                                                                 \n",
            " max_pooling2d_1 (MaxPooling  (None, 45, 45, 32)       0         \n",
            " 2D)                                                             \n",
            "                                                                 \n",
            " conv2d_2 (Conv2D)           (None, 45, 45, 64)        18496     \n",
            "                                                                 \n",
            " max_pooling2d_2 (MaxPooling  (None, 22, 22, 64)       0         \n",
            " 2D)                                                             \n",
            "                                                                 \n",
            " conv2d_3 (Conv2D)           (None, 22, 22, 128)       73856     \n",
            "                                                                 \n",
            " max_pooling2d_3 (MaxPooling  (None, 11, 11, 128)      0         \n",
            " 2D)                                                             \n",
            "                                                                 \n",
            " conv2d_4 (Conv2D)           (None, 11, 11, 256)       295168    \n",
            "                                                                 \n",
            " max_pooling2d_4 (MaxPooling  (None, 5, 5, 256)        0         \n",
            " 2D)                                                             \n",
            "                                                                 \n",
            " dropout (Dropout)           (None, 5, 5, 256)         0         \n",
            "                                                                 \n",
            " flatten (Flatten)           (None, 6400)              0         \n",
            "                                                                 \n",
            " dense (Dense)               (None, 512)               3277312   \n",
            "                                                                 \n",
            " dense_1 (Dense)             (None, 5)                 2565      \n",
            "                                                                 \n",
            "=================================================================\n",
            "Total params: 3,672,485\n",
            "Trainable params: 3,672,485\n",
            "Non-trainable params: 0\n",
            "_________________________________________________________________\n"
          ]
        }
      ]
    }
  ],
  "metadata": {
    "kernelspec": {
      "display_name": "Python 3.8.5 ('base')",
      "language": "python",
      "name": "python3"
    },
    "language_info": {
      "codemirror_mode": {
        "name": "ipython",
        "version": 3
      },
      "file_extension": ".py",
      "mimetype": "text/x-python",
      "name": "python",
      "nbconvert_exporter": "python",
      "pygments_lexer": "ipython3",
      "version": "3.8.5"
    },
    "orig_nbformat": 4,
    "vscode": {
      "interpreter": {
        "hash": "4c7c73bd2f96f7ecfce4c2ebe289d2ebf7bb8be73ece72a715221e4a2052d88f"
      }
    },
    "colab": {
      "provenance": [],
      "collapsed_sections": []
    },
    "accelerator": "GPU"
  },
  "nbformat": 4,
  "nbformat_minor": 0
}